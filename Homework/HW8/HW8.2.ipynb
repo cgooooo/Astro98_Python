{
 "cells": [
  {
   "cell_type": "code",
   "execution_count": 38,
   "id": "101ebbee",
   "metadata": {},
   "outputs": [],
   "source": [
    "import numpy as np\n",
    "import matplotlib.pyplot as plt\n",
    "from astropy.table import Table\n",
    "import pandas as pd\n",
    "from scipy.optimize import curve_fit"
   ]
  },
  {
   "cell_type": "code",
   "execution_count": 39,
   "id": "5bc120c1",
   "metadata": {},
   "outputs": [
    {
     "data": {
      "text/html": [
       "<div><i>Table length=228</i>\n",
       "<table id=\"table1803950995664\" class=\"table-striped table-bordered table-condensed\">\n",
       "<thead><tr><th>SF6ottoyr</th><th>SF6ottomon</th><th>SF6ottoNHm</th><th>SF6ottoNHsd</th><th>SF6ottoSHm</th><th>SF6ottoSHsd</th><th>SF6ottoGLm</th><th>SF6ottoGLsd</th></tr></thead>\n",
       "<thead><tr><th>int32</th><th>int32</th><th>float64</th><th>float64</th><th>float64</th><th>float64</th><th>float64</th><th>float64</th></tr></thead>\n",
       "<tr><td>1995</td><td>1</td><td>3.533</td><td>0.029</td><td>3.207</td><td>0.125</td><td>3.37</td><td>0.064</td></tr>\n",
       "<tr><td>1995</td><td>2</td><td>3.512</td><td>0.154</td><td>3.282</td><td>0.193</td><td>3.397</td><td>0.122</td></tr>\n",
       "<tr><td>1995</td><td>3</td><td>3.558</td><td>0.159</td><td>3.244</td><td>0.12</td><td>3.401</td><td>0.1</td></tr>\n",
       "<tr><td>1995</td><td>4</td><td>3.618</td><td>0.09</td><td>3.287</td><td>0.17</td><td>3.453</td><td>0.094</td></tr>\n",
       "<tr><td>1995</td><td>5</td><td>3.626</td><td>0.133</td><td>3.308</td><td>0.139</td><td>3.467</td><td>0.099</td></tr>\n",
       "<tr><td>1995</td><td>6</td><td>3.551</td><td>0.119</td><td>3.297</td><td>0.112</td><td>3.424</td><td>0.081</td></tr>\n",
       "<tr><td>1995</td><td>7</td><td>3.677</td><td>0.093</td><td>3.262</td><td>0.124</td><td>3.47</td><td>0.078</td></tr>\n",
       "<tr><td>1995</td><td>8</td><td>3.675</td><td>0.211</td><td>3.259</td><td>0.191</td><td>3.467</td><td>0.143</td></tr>\n",
       "<tr><td>1995</td><td>9</td><td>3.626</td><td>0.063</td><td>3.346</td><td>0.064</td><td>3.486</td><td>0.043</td></tr>\n",
       "<tr><td>1995</td><td>10</td><td>3.683</td><td>0.044</td><td>3.355</td><td>0.043</td><td>3.519</td><td>0.031</td></tr>\n",
       "<tr><td>...</td><td>...</td><td>...</td><td>...</td><td>...</td><td>...</td><td>...</td><td>...</td></tr>\n",
       "<tr><td>2013</td><td>3</td><td>nan</td><td>nan</td><td>nan</td><td>nan</td><td>nan</td><td>nan</td></tr>\n",
       "<tr><td>2013</td><td>4</td><td>nan</td><td>nan</td><td>nan</td><td>nan</td><td>nan</td><td>nan</td></tr>\n",
       "<tr><td>2013</td><td>5</td><td>nan</td><td>nan</td><td>nan</td><td>nan</td><td>nan</td><td>nan</td></tr>\n",
       "<tr><td>2013</td><td>6</td><td>nan</td><td>nan</td><td>nan</td><td>nan</td><td>nan</td><td>nan</td></tr>\n",
       "<tr><td>2013</td><td>7</td><td>nan</td><td>nan</td><td>nan</td><td>nan</td><td>nan</td><td>nan</td></tr>\n",
       "<tr><td>2013</td><td>8</td><td>nan</td><td>nan</td><td>nan</td><td>nan</td><td>nan</td><td>nan</td></tr>\n",
       "<tr><td>2013</td><td>9</td><td>nan</td><td>nan</td><td>nan</td><td>nan</td><td>nan</td><td>nan</td></tr>\n",
       "<tr><td>2013</td><td>10</td><td>nan</td><td>nan</td><td>nan</td><td>nan</td><td>nan</td><td>nan</td></tr>\n",
       "<tr><td>2013</td><td>11</td><td>nan</td><td>nan</td><td>nan</td><td>nan</td><td>nan</td><td>nan</td></tr>\n",
       "<tr><td>2013</td><td>12</td><td>nan</td><td>nan</td><td>nan</td><td>nan</td><td>nan</td><td>nan</td></tr>\n",
       "</table></div>"
      ],
      "text/plain": [
       "<Table length=228>\n",
       "SF6ottoyr SF6ottomon SF6ottoNHm ... SF6ottoSHsd SF6ottoGLm SF6ottoGLsd\n",
       "  int32     int32     float64   ...   float64    float64     float64  \n",
       "--------- ---------- ---------- ... ----------- ---------- -----------\n",
       "     1995          1      3.533 ...       0.125       3.37       0.064\n",
       "     1995          2      3.512 ...       0.193      3.397       0.122\n",
       "     1995          3      3.558 ...        0.12      3.401         0.1\n",
       "     1995          4      3.618 ...        0.17      3.453       0.094\n",
       "     1995          5      3.626 ...       0.139      3.467       0.099\n",
       "     1995          6      3.551 ...       0.112      3.424       0.081\n",
       "     1995          7      3.677 ...       0.124       3.47       0.078\n",
       "     1995          8      3.675 ...       0.191      3.467       0.143\n",
       "     1995          9      3.626 ...       0.064      3.486       0.043\n",
       "     1995         10      3.683 ...       0.043      3.519       0.031\n",
       "      ...        ...        ... ...         ...        ...         ...\n",
       "     2013          3        nan ...         nan        nan         nan\n",
       "     2013          4        nan ...         nan        nan         nan\n",
       "     2013          5        nan ...         nan        nan         nan\n",
       "     2013          6        nan ...         nan        nan         nan\n",
       "     2013          7        nan ...         nan        nan         nan\n",
       "     2013          8        nan ...         nan        nan         nan\n",
       "     2013          9        nan ...         nan        nan         nan\n",
       "     2013         10        nan ...         nan        nan         nan\n",
       "     2013         11        nan ...         nan        nan         nan\n",
       "     2013         12        nan ...         nan        nan         nan"
      ]
     },
     "execution_count": 39,
     "metadata": {},
     "output_type": "execute_result"
    }
   ],
   "source": [
    "#2.1\n",
    "data = Table.read('global_SF6_MM.dat', format ='ascii')\n",
    "\n",
    "data"
   ]
  },
  {
   "cell_type": "code",
   "execution_count": 40,
   "id": "27538bd3",
   "metadata": {},
   "outputs": [
    {
     "data": {
      "text/html": [
       "<div>\n",
       "<style scoped>\n",
       "    .dataframe tbody tr th:only-of-type {\n",
       "        vertical-align: middle;\n",
       "    }\n",
       "\n",
       "    .dataframe tbody tr th {\n",
       "        vertical-align: top;\n",
       "    }\n",
       "\n",
       "    .dataframe thead th {\n",
       "        text-align: right;\n",
       "    }\n",
       "</style>\n",
       "<table border=\"1\" class=\"dataframe\">\n",
       "  <thead>\n",
       "    <tr style=\"text-align: right;\">\n",
       "      <th></th>\n",
       "      <th>SF6ottoyr</th>\n",
       "      <th>SF6ottoGLm</th>\n",
       "      <th>SF6ottoGLsd</th>\n",
       "    </tr>\n",
       "  </thead>\n",
       "  <tbody>\n",
       "    <tr>\n",
       "      <th>0</th>\n",
       "      <td>1995</td>\n",
       "      <td>3.370</td>\n",
       "      <td>0.064</td>\n",
       "    </tr>\n",
       "    <tr>\n",
       "      <th>1</th>\n",
       "      <td>1995</td>\n",
       "      <td>3.397</td>\n",
       "      <td>0.122</td>\n",
       "    </tr>\n",
       "    <tr>\n",
       "      <th>2</th>\n",
       "      <td>1995</td>\n",
       "      <td>3.401</td>\n",
       "      <td>0.100</td>\n",
       "    </tr>\n",
       "    <tr>\n",
       "      <th>3</th>\n",
       "      <td>1995</td>\n",
       "      <td>3.453</td>\n",
       "      <td>0.094</td>\n",
       "    </tr>\n",
       "    <tr>\n",
       "      <th>4</th>\n",
       "      <td>1995</td>\n",
       "      <td>3.467</td>\n",
       "      <td>0.099</td>\n",
       "    </tr>\n",
       "    <tr>\n",
       "      <th>...</th>\n",
       "      <td>...</td>\n",
       "      <td>...</td>\n",
       "      <td>...</td>\n",
       "    </tr>\n",
       "    <tr>\n",
       "      <th>223</th>\n",
       "      <td>2013</td>\n",
       "      <td>NaN</td>\n",
       "      <td>NaN</td>\n",
       "    </tr>\n",
       "    <tr>\n",
       "      <th>224</th>\n",
       "      <td>2013</td>\n",
       "      <td>NaN</td>\n",
       "      <td>NaN</td>\n",
       "    </tr>\n",
       "    <tr>\n",
       "      <th>225</th>\n",
       "      <td>2013</td>\n",
       "      <td>NaN</td>\n",
       "      <td>NaN</td>\n",
       "    </tr>\n",
       "    <tr>\n",
       "      <th>226</th>\n",
       "      <td>2013</td>\n",
       "      <td>NaN</td>\n",
       "      <td>NaN</td>\n",
       "    </tr>\n",
       "    <tr>\n",
       "      <th>227</th>\n",
       "      <td>2013</td>\n",
       "      <td>NaN</td>\n",
       "      <td>NaN</td>\n",
       "    </tr>\n",
       "  </tbody>\n",
       "</table>\n",
       "<p>228 rows × 3 columns</p>\n",
       "</div>"
      ],
      "text/plain": [
       "     SF6ottoyr  SF6ottoGLm  SF6ottoGLsd\n",
       "0         1995       3.370        0.064\n",
       "1         1995       3.397        0.122\n",
       "2         1995       3.401        0.100\n",
       "3         1995       3.453        0.094\n",
       "4         1995       3.467        0.099\n",
       "..         ...         ...          ...\n",
       "223       2013         NaN          NaN\n",
       "224       2013         NaN          NaN\n",
       "225       2013         NaN          NaN\n",
       "226       2013         NaN          NaN\n",
       "227       2013         NaN          NaN\n",
       "\n",
       "[228 rows x 3 columns]"
      ]
     },
     "execution_count": 40,
     "metadata": {},
     "output_type": "execute_result"
    }
   ],
   "source": [
    "#2.2\n",
    "df = data.to_pandas()\n",
    "\n",
    "df = df[['SF6ottoyr', 'SF6ottoGLm', 'SF6ottoGLsd']]\n",
    "df\n"
   ]
  },
  {
   "cell_type": "code",
   "execution_count": 41,
   "id": "259d8928",
   "metadata": {},
   "outputs": [
    {
     "data": {
      "image/png": "[encoded data removed]",
      "text/plain": [
       "<Figure size 1500x800 with 1 Axes>"
      ]
     },
     "metadata": {},
     "output_type": "display_data"
    }
   ],
   "source": [
    "#2.3 \n",
    "plt.figure(figsize = (15, 8))\n",
    "plt.errorbar(data_df['SF6ottoyr'], data_df['SF6ottoGLm'], yerr = data_df['SF6ottoGLsd'], fmt = 'o')\n",
    "plt.title('Global Mean Concentration Over Time')\n",
    "plt.xlabel('Date')\n",
    "plt.ylabel('Global Mean Concentration')\n",
    "plt.show()"
   ]
  },
  {
   "cell_type": "code",
   "execution_count": 43,
   "id": "34c8bc84",
   "metadata": {},
   "outputs": [
    {
     "ename": "ValueError",
     "evalue": "array must not contain infs or NaNs",
     "output_type": "error",
     "traceback": [
      "\u001b[1;31m---------------------------------------------------------------------------\u001b[0m",
      "\u001b[1;31mValueError\u001b[0m                                Traceback (most recent call last)",
      "Cell \u001b[1;32mIn[43], line 6\u001b[0m\n\u001b[0;32m      3\u001b[0m \u001b[38;5;28;01mdef\u001b[39;00m \u001b[38;5;21mlinearmod\u001b[39m(x, m, b):\n\u001b[0;32m      4\u001b[0m     \u001b[38;5;28;01mreturn\u001b[39;00m m \u001b[38;5;241m*\u001b[39m x \u001b[38;5;241m+\u001b[39m b\n\u001b[1;32m----> 6\u001b[0m parameters, covariance \u001b[38;5;241m=\u001b[39m curve_fit(linearmod, data_df[\u001b[38;5;124m'\u001b[39m\u001b[38;5;124mSF6ottoyr\u001b[39m\u001b[38;5;124m'\u001b[39m], data_df[\u001b[38;5;124m'\u001b[39m\u001b[38;5;124mSF6ottoGLm\u001b[39m\u001b[38;5;124m'\u001b[39m])\n\u001b[0;32m      7\u001b[0m slope, intercept \u001b[38;5;241m=\u001b[39m paramters\n\u001b[0;32m      8\u001b[0m SlopeError, InterceptError \u001b[38;5;241m=\u001b[39m np\u001b[38;5;241m.\u001b[39msqrt(np\u001b[38;5;241m.\u001b[39mdiag(covariance))\n",
      "File \u001b[1;32m~\\anaconda3\\Lib\\site-packages\\scipy\\optimize\\_minpack_py.py:888\u001b[0m, in \u001b[0;36mcurve_fit\u001b[1;34m(f, xdata, ydata, p0, sigma, absolute_sigma, check_finite, bounds, method, jac, full_output, nan_policy, **kwargs)\u001b[0m\n\u001b[0;32m    886\u001b[0m \u001b[38;5;66;03m# optimization may produce garbage for float32 inputs, cast them to float64\u001b[39;00m\n\u001b[0;32m    887\u001b[0m \u001b[38;5;28;01mif\u001b[39;00m check_finite:\n\u001b[1;32m--> 888\u001b[0m     ydata \u001b[38;5;241m=\u001b[39m np\u001b[38;5;241m.\u001b[39masarray_chkfinite(ydata, \u001b[38;5;28mfloat\u001b[39m)\n\u001b[0;32m    889\u001b[0m \u001b[38;5;28;01melse\u001b[39;00m:\n\u001b[0;32m    890\u001b[0m     ydata \u001b[38;5;241m=\u001b[39m np\u001b[38;5;241m.\u001b[39masarray(ydata, \u001b[38;5;28mfloat\u001b[39m)\n",
      "File \u001b[1;32m~\\anaconda3\\Lib\\site-packages\\numpy\\lib\\function_base.py:628\u001b[0m, in \u001b[0;36masarray_chkfinite\u001b[1;34m(a, dtype, order)\u001b[0m\n\u001b[0;32m    626\u001b[0m a \u001b[38;5;241m=\u001b[39m asarray(a, dtype\u001b[38;5;241m=\u001b[39mdtype, order\u001b[38;5;241m=\u001b[39morder)\n\u001b[0;32m    627\u001b[0m \u001b[38;5;28;01mif\u001b[39;00m a\u001b[38;5;241m.\u001b[39mdtype\u001b[38;5;241m.\u001b[39mchar \u001b[38;5;129;01min\u001b[39;00m typecodes[\u001b[38;5;124m'\u001b[39m\u001b[38;5;124mAllFloat\u001b[39m\u001b[38;5;124m'\u001b[39m] \u001b[38;5;129;01mand\u001b[39;00m \u001b[38;5;129;01mnot\u001b[39;00m np\u001b[38;5;241m.\u001b[39misfinite(a)\u001b[38;5;241m.\u001b[39mall():\n\u001b[1;32m--> 628\u001b[0m     \u001b[38;5;28;01mraise\u001b[39;00m \u001b[38;5;167;01mValueError\u001b[39;00m(\n\u001b[0;32m    629\u001b[0m         \u001b[38;5;124m\"\u001b[39m\u001b[38;5;124marray must not contain infs or NaNs\u001b[39m\u001b[38;5;124m\"\u001b[39m)\n\u001b[0;32m    630\u001b[0m \u001b[38;5;28;01mreturn\u001b[39;00m a\n",
      "\u001b[1;31mValueError\u001b[0m: array must not contain infs or NaNs"
     ]
    }
   ],
   "source": [
    "#2.4\n",
    "#coefficients = np.polyfit(data_df['SF6ottoyr'], data_df['SF6ottoGLm'], deg = 1)\n",
    "def linearmod(x, m, b):\n",
    "    return m * x + b\n",
    "    \n",
    "parameters, covariance = curve_fit(linearmod, data_df['SF6ottoyr'], data_df['SF6ottoGLm'])\n",
    "slope, intercept = paramters\n",
    "SlopeError, InterceptError = np.sqrt(np.diag(covariance))\n"
   ]
  },
  {
   "cell_type": "code",
   "execution_count": 49,
   "id": "62ea8529",
   "metadata": {
    "scrolled": true
   },
   "outputs": [
    {
     "data": {
      "text/html": [
       "<div>\n",
       "<style scoped>\n",
       "    .dataframe tbody tr th:only-of-type {\n",
       "        vertical-align: middle;\n",
       "    }\n",
       "\n",
       "    .dataframe tbody tr th {\n",
       "        vertical-align: top;\n",
       "    }\n",
       "\n",
       "    .dataframe thead th {\n",
       "        text-align: right;\n",
       "    }\n",
       "</style>\n",
       "<table border=\"1\" class=\"dataframe\">\n",
       "  <thead>\n",
       "    <tr style=\"text-align: right;\">\n",
       "      <th></th>\n",
       "      <th>SF6ottoyr</th>\n",
       "      <th>SF6ottomon</th>\n",
       "      <th>SF6ottoNHm</th>\n",
       "      <th>SF6ottoNHsd</th>\n",
       "      <th>SF6ottoSHm</th>\n",
       "      <th>SF6ottoSHsd</th>\n",
       "      <th>SF6ottoGLm</th>\n",
       "      <th>SF6ottoGLsd</th>\n",
       "    </tr>\n",
       "  </thead>\n",
       "  <tbody>\n",
       "    <tr>\n",
       "      <th>0</th>\n",
       "      <td>1995</td>\n",
       "      <td>1</td>\n",
       "      <td>3.533</td>\n",
       "      <td>0.029</td>\n",
       "      <td>3.207</td>\n",
       "      <td>0.125</td>\n",
       "      <td>3.370</td>\n",
       "      <td>0.064</td>\n",
       "    </tr>\n",
       "    <tr>\n",
       "      <th>1</th>\n",
       "      <td>1995</td>\n",
       "      <td>2</td>\n",
       "      <td>3.512</td>\n",
       "      <td>0.154</td>\n",
       "      <td>3.282</td>\n",
       "      <td>0.193</td>\n",
       "      <td>3.397</td>\n",
       "      <td>0.122</td>\n",
       "    </tr>\n",
       "    <tr>\n",
       "      <th>2</th>\n",
       "      <td>1995</td>\n",
       "      <td>3</td>\n",
       "      <td>3.558</td>\n",
       "      <td>0.159</td>\n",
       "      <td>3.244</td>\n",
       "      <td>0.120</td>\n",
       "      <td>3.401</td>\n",
       "      <td>0.100</td>\n",
       "    </tr>\n",
       "    <tr>\n",
       "      <th>3</th>\n",
       "      <td>1995</td>\n",
       "      <td>4</td>\n",
       "      <td>3.618</td>\n",
       "      <td>0.090</td>\n",
       "      <td>3.287</td>\n",
       "      <td>0.170</td>\n",
       "      <td>3.453</td>\n",
       "      <td>0.094</td>\n",
       "    </tr>\n",
       "    <tr>\n",
       "      <th>4</th>\n",
       "      <td>1995</td>\n",
       "      <td>5</td>\n",
       "      <td>3.626</td>\n",
       "      <td>0.133</td>\n",
       "      <td>3.308</td>\n",
       "      <td>0.139</td>\n",
       "      <td>3.467</td>\n",
       "      <td>0.099</td>\n",
       "    </tr>\n",
       "    <tr>\n",
       "      <th>...</th>\n",
       "      <td>...</td>\n",
       "      <td>...</td>\n",
       "      <td>...</td>\n",
       "      <td>...</td>\n",
       "      <td>...</td>\n",
       "      <td>...</td>\n",
       "      <td>...</td>\n",
       "      <td>...</td>\n",
       "    </tr>\n",
       "    <tr>\n",
       "      <th>212</th>\n",
       "      <td>2012</td>\n",
       "      <td>9</td>\n",
       "      <td>7.793</td>\n",
       "      <td>0.025</td>\n",
       "      <td>7.470</td>\n",
       "      <td>0.029</td>\n",
       "      <td>7.631</td>\n",
       "      <td>0.019</td>\n",
       "    </tr>\n",
       "    <tr>\n",
       "      <th>213</th>\n",
       "      <td>2012</td>\n",
       "      <td>10</td>\n",
       "      <td>7.838</td>\n",
       "      <td>0.027</td>\n",
       "      <td>7.498</td>\n",
       "      <td>0.044</td>\n",
       "      <td>7.668</td>\n",
       "      <td>0.026</td>\n",
       "    </tr>\n",
       "    <tr>\n",
       "      <th>214</th>\n",
       "      <td>2012</td>\n",
       "      <td>11</td>\n",
       "      <td>7.867</td>\n",
       "      <td>0.029</td>\n",
       "      <td>7.523</td>\n",
       "      <td>0.032</td>\n",
       "      <td>7.695</td>\n",
       "      <td>0.022</td>\n",
       "    </tr>\n",
       "    <tr>\n",
       "      <th>215</th>\n",
       "      <td>2012</td>\n",
       "      <td>12</td>\n",
       "      <td>7.897</td>\n",
       "      <td>0.025</td>\n",
       "      <td>7.564</td>\n",
       "      <td>0.038</td>\n",
       "      <td>7.730</td>\n",
       "      <td>0.022</td>\n",
       "    </tr>\n",
       "    <tr>\n",
       "      <th>216</th>\n",
       "      <td>2013</td>\n",
       "      <td>1</td>\n",
       "      <td>7.924</td>\n",
       "      <td>0.024</td>\n",
       "      <td>7.626</td>\n",
       "      <td>0.038</td>\n",
       "      <td>7.775</td>\n",
       "      <td>0.022</td>\n",
       "    </tr>\n",
       "  </tbody>\n",
       "</table>\n",
       "<p>217 rows × 8 columns</p>\n",
       "</div>"
      ],
      "text/plain": [
       "     SF6ottoyr  SF6ottomon  SF6ottoNHm  SF6ottoNHsd  SF6ottoSHm  SF6ottoSHsd  \\\n",
       "0         1995           1       3.533        0.029       3.207        0.125   \n",
       "1         1995           2       3.512        0.154       3.282        0.193   \n",
       "2         1995           3       3.558        0.159       3.244        0.120   \n",
       "3         1995           4       3.618        0.090       3.287        0.170   \n",
       "4         1995           5       3.626        0.133       3.308        0.139   \n",
       "..         ...         ...         ...          ...         ...          ...   \n",
       "212       2012           9       7.793        0.025       7.470        0.029   \n",
       "213       2012          10       7.838        0.027       7.498        0.044   \n",
       "214       2012          11       7.867        0.029       7.523        0.032   \n",
       "215       2012          12       7.897        0.025       7.564        0.038   \n",
       "216       2013           1       7.924        0.024       7.626        0.038   \n",
       "\n",
       "     SF6ottoGLm  SF6ottoGLsd  \n",
       "0         3.370        0.064  \n",
       "1         3.397        0.122  \n",
       "2         3.401        0.100  \n",
       "3         3.453        0.094  \n",
       "4         3.467        0.099  \n",
       "..          ...          ...  \n",
       "212       7.631        0.019  \n",
       "213       7.668        0.026  \n",
       "214       7.695        0.022  \n",
       "215       7.730        0.022  \n",
       "216       7.775        0.022  \n",
       "\n",
       "[217 rows x 8 columns]"
      ]
     },
     "execution_count": 49,
     "metadata": {},
     "output_type": "execute_result"
    }
   ],
   "source": [
    "#2.4\n",
    "data_df = data_df.dropna()\n",
    "coeffs = np.polyfit(data_df['SF6ottoyr'], data_df['SF6ottoGLm'], deg = 1)\n",
    "\n",
    "data_df"
   ]
  },
  {
   "cell_type": "code",
   "execution_count": 52,
   "id": "9c261bb1",
   "metadata": {},
   "outputs": [
    {
     "data": {
      "text/plain": [
       "21.897233441124833"
      ]
     },
     "execution_count": 52,
     "metadata": {},
     "output_type": "execute_result"
    }
   ],
   "source": [
    "#2.5 \n",
    "\n",
    "predictions = np.polyval(coeffs, data_df['SF6ottoyr'])\n",
    "residuals = data_df['SF6ottoGLm'] - predictions\n",
    "ChiSquared = np.sum((residuals / data_df['SF6ottoGLsd']) ** 2) / (len(data_df) - 2)\n",
    "\n",
    "ChiSquared"
   ]
  },
  {
   "cell_type": "code",
   "execution_count": 68,
   "id": "a675a1f1",
   "metadata": {},
   "outputs": [
    {
     "ename": "NameError",
     "evalue": "name 'slope' is not defined",
     "output_type": "error",
     "traceback": [
      "\u001b[1;31m---------------------------------------------------------------------------\u001b[0m",
      "\u001b[1;31mNameError\u001b[0m                                 Traceback (most recent call last)",
      "Cell \u001b[1;32mIn[68], line 2\u001b[0m\n\u001b[0;32m      1\u001b[0m \u001b[38;5;66;03m#2.6\u001b[39;00m\n\u001b[1;32m----> 2\u001b[0m \u001b[38;5;28mprint\u001b[39m(\u001b[38;5;124mf\u001b[39m\u001b[38;5;124m\"\u001b[39m\u001b[38;5;132;01m{\u001b[39;00mslope\u001b[38;5;132;01m:\u001b[39;00m\u001b[38;5;124m.2f\u001b[39m\u001b[38;5;132;01m}\u001b[39;00m\u001b[38;5;124m\"\u001b[39m)\n\u001b[0;32m      3\u001b[0m \u001b[38;5;28mprint\u001b[39m(\u001b[38;5;124mf\u001b[39m\u001b[38;5;124m\"\u001b[39m\u001b[38;5;132;01m{\u001b[39;00mintercept\u001b[38;5;132;01m:\u001b[39;00m\u001b[38;5;124m.2f\u001b[39m\u001b[38;5;132;01m}\u001b[39;00m\u001b[38;5;124m\"\u001b[39m)\n\u001b[0;32m      4\u001b[0m \u001b[38;5;28mprint\u001b[39m(\u001b[38;5;124mf\u001b[39m\u001b[38;5;124m\"\u001b[39m\u001b[38;5;132;01m{\u001b[39;00mChiSquared\u001b[38;5;132;01m:\u001b[39;00m\u001b[38;5;124m.2f\u001b[39m\u001b[38;5;132;01m}\u001b[39;00m\u001b[38;5;124m\"\u001b[39m)\n",
      "\u001b[1;31mNameError\u001b[0m: name 'slope' is not defined"
     ]
    }
   ],
   "source": [
    "#2.6\n",
    "print(f\"{slope:.2f}\")\n",
    "print(f\"{intercept:.2f}\")\n",
    "print(f\"{ChiSquared:.2f}\")\n",
    "print(f\"{slope:.2f} * x + {intercept:.2f}\")"
   ]
  },
  {
   "cell_type": "code",
   "execution_count": 64,
   "id": "77655269",
   "metadata": {},
   "outputs": [
    {
     "data": {
      "text/plain": [
       "<matplotlib.lines.Line2D at 0x1a4047a6450>"
      ]
     },
     "execution_count": 64,
     "metadata": {},
     "output_type": "execute_result"
    },
    {
     "data": {
      "image/png": "[encoded data removed]",
      "text/plain": [
       "<Figure size 1500x1000 with 1 Axes>"
      ]
     },
     "metadata": {},
     "output_type": "display_data"
    }
   ],
   "source": [
    "#2.7\n",
    "plt.figure(figsize = (15, 10))\n",
    "plt.scatter(data_df['SF6ottoyr'], residuals)\n",
    "\n",
    "plt.axhline(y=0, color = 'dodgerblue')"
   ]
  },
  {
   "cell_type": "code",
   "execution_count": null,
   "id": "6710632c",
   "metadata": {},
   "outputs": [],
   "source": [
    "#to whoever is grading this: im so sorry its so bad. Everything is kinda pilingup right now so i did the best with what i could"
   ]
  }
 ],
 "metadata": {
  "kernelspec": {
   "display_name": "Python 3 (ipykernel)",
   "language": "python",
   "name": "python3"
  },
  "language_info": {
   "codemirror_mode": {
    "name": "ipython",
    "version": 3
   },
   "file_extension": ".py",
   "mimetype": "text/x-python",
   "name": "python",
   "nbconvert_exporter": "python",
   "pygments_lexer": "ipython3",
   "version": "3.11.5"
  }
 },
 "nbformat": 4,
 "nbformat_minor": 5
}
